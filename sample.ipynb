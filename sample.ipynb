{
 "cells": [
  {
   "metadata": {},
   "cell_type": "markdown",
   "source": [
    "# 糖尿病预测数据预处理与建模（基于 BRFSS 数据集）\n",
    "\n",
    "本 Notebook 包括以下模块：\n",
    "\n",
    "- 数据划分与标准化  \n",
    "- 类别分布检查与上采样  \n",
    "- 标准化可视化  \n",
    "- XGBoost 模型训练与评估  \n"
   ],
   "id": "86fadd0fd04bd1d3"
  },
  {
   "metadata": {
    "ExecuteTime": {
     "end_time": "2025-06-03T09:17:08.115103Z",
     "start_time": "2025-06-03T09:17:07.680450Z"
    }
   },
   "cell_type": "code",
   "source": [
    "import pandas as pd\n",
    "import numpy as np\n",
    "from sklearn.model_selection import train_test_split\n",
    "from sklearn.preprocessing import StandardScaler\n",
    "from sklearn.utils import resample\n",
    "import seaborn as sns\n",
    "import matplotlib.pyplot as plt\n",
    "from xgboost import XGBClassifier\n",
    "from sklearn.metrics import classification_report, confusion_matrix\n",
    "from sklearn.preprocessing import MinMaxScaler"
   ],
   "id": "17dfb85813581746",
   "outputs": [],
   "execution_count": 1
  },
  {
   "metadata": {},
   "cell_type": "markdown",
   "source": "",
   "id": "62c8f1ffd7c2a2c"
  },
  {
   "metadata": {},
   "cell_type": "markdown",
   "source": "# 对数据进行预处理",
   "id": "4e3d8e096951fcc9"
  },
  {
   "metadata": {},
   "cell_type": "markdown",
   "source": "",
   "id": "d15487697b937b77"
  },
  {
   "metadata": {
    "ExecuteTime": {
     "end_time": "2025-06-03T09:17:09.323733Z",
     "start_time": "2025-06-03T09:17:08.122498Z"
    }
   },
   "cell_type": "code",
   "source": [
    "\n",
    "# 🔶 2. 读取原始 CSV（假设文件名为 brfss_raw.csv）\n",
    "df = pd.read_csv('data/CDC_BRFSS2015.csv')\n",
    "\n",
    "# 🔶 3. 字段重命名（可选，便于统一命名）\n",
    "df.columns = [\n",
    "    'Diabetes_binary', 'HighBP', 'HighChol', 'CholCheck', 'BMI', 'Smoker',\n",
    "    'Stroke', 'HeartDiseaseorAttack', 'PhysActivity', 'Fruits', 'Veggies',\n",
    "    'HvyAlcoholConsump', 'AnyHealthcare', 'NoDocbcCost', 'GenHlth', 'MentHlth',\n",
    "    'PhysHlth', 'DiffWalk', 'Sex', 'Age', 'Education', 'Income'\n",
    "]\n",
    "\n",
    "# 🔶 4. 处理异常值（如极端 BMI）\n",
    "df = df[df['BMI'] <= 60]\n",
    "\n",
    "# 🔶 5. 构造新特征（特征工程，结合教材内容）\n",
    "\n",
    "# 是否肥胖\n",
    "df['IsObese'] = (df['BMI'] >= 30).astype(int)\n",
    "\n",
    "# BMI 分段\n",
    "df['BMI_Category'] = pd.cut(df['BMI'], bins=[0, 18.5, 25, 30, 60],\n",
    "                            labels=['Underweight', 'Normal', 'Overweight', 'Obese'])\n",
    "\n",
    "# 年龄段\n",
    "df['AgeGroup'] = pd.cut(df['Age'], bins=[0, 30, 50, 80],\n",
    "                        labels=['Young', 'Middle', 'Old'])\n",
    "\n",
    "# 不健康得分\n",
    "df['TotalUnhealthyDays'] = df['MentHlth'] + df['PhysHlth']\n",
    "df['HealthRiskScore'] = df['TotalUnhealthyDays'] * (df['DiffWalk'] + 1)\n",
    "\n",
    "# 🔶 6. 归一化\n",
    "scaler = MinMaxScaler()\n",
    "scaled_cols = ['BMI', 'MentHlth', 'PhysHlth', 'TotalUnhealthyDays', 'HealthRiskScore']\n",
    "df[scaled_cols] = scaler.fit_transform(df[scaled_cols])\n",
    "\n",
    "# 🔶 7. 最终保留字段\n",
    "final_cols = [\n",
    "    'HighBP', 'HighChol', 'CholCheck', 'Smoker', 'Stroke',\n",
    "    'HeartDiseaseorAttack', 'PhysActivity', 'Fruits', 'Veggies',\n",
    "    'HvyAlcoholConsump', 'AnyHealthcare', 'NoDocbcCost', 'DiffWalk',\n",
    "    'Sex', 'Age', 'Education', 'Income', 'BMI', 'IsObese', 'HealthRiskScore',\n",
    "    'Diabetes_binary'\n",
    "]\n",
    "df_final = df[final_cols]\n",
    "\n",
    "# 🔶 8. 保存结果\n",
    "df_final.to_csv('aftprocessdata/processed_brfss.csv', index=False)\n",
    "print(\"✅ 已生成处理后的文件：processed_brfss.csv\")\n",
    "\n"
   ],
   "id": "fbc121e30a2defb3",
   "outputs": [
    {
     "name": "stdout",
     "output_type": "stream",
     "text": [
      "✅ 已生成处理后的文件：processed_brfss.csv\n"
     ]
    }
   ],
   "execution_count": 2
  },
  {
   "metadata": {},
   "cell_type": "markdown",
   "source": "# 加载数据（请确保已预处理为 processed_brfss.csv）",
   "id": "16f17fba18e03a58"
  },
  {
   "metadata": {
    "ExecuteTime": {
     "end_time": "2025-06-03T09:17:09.562870Z",
     "start_time": "2025-06-03T09:17:09.427138Z"
    }
   },
   "cell_type": "code",
   "source": [
    "\n",
    "data = pd.read_csv('aftprocessdata/processed_brfss.csv')\n",
    "data.head()\n",
    "#类别数量检查\n",
    "print(\"Class 0:\", (data.iloc[:,-1] == 0).sum())\n",
    "print(\"Class 1:\", (data.iloc[:,-1] == 1).sum())\n"
   ],
   "id": "69138aed0b608835",
   "outputs": [
    {
     "name": "stdout",
     "output_type": "stream",
     "text": [
      "Class 0: 217700\n",
      "Class 1: 35175\n"
     ]
    }
   ],
   "execution_count": 3
  },
  {
   "metadata": {},
   "cell_type": "markdown",
   "source": [
    "# 上采样函数定义与执行\n",
    "复制少数类样本使其数量增加到与多数类相等，这样可以平衡训练数据的正负样本数量；\n"
   ],
   "id": "bc403dbb3341be6b"
  },
  {
   "metadata": {
    "ExecuteTime": {
     "end_time": "2025-06-03T09:17:09.697879Z",
     "start_time": "2025-06-03T09:17:09.611305Z"
    }
   },
   "cell_type": "code",
   "source": [
    "def oversample(df):\n",
    "    if ((df.iloc[:,-1] == 0).sum()) >= ((df.iloc[:,-1] == 1).sum()):\n",
    "        df_majority = df[df.iloc[:,-1] == 0]\n",
    "        df_minority = df[df.iloc[:,-1] == 1]\n",
    "    else:\n",
    "        df_majority = df[df.iloc[:,-1] == 1]\n",
    "        df_minority = df[df.iloc[:,-1] == 0]\n",
    "    df_minority_upsampled = resample(df_minority, replace=True, n_samples=len(df_majority), random_state=42)\n",
    "    df_upsampled = pd.concat([df_majority, df_minority_upsampled])\n",
    "    return df_upsampled.sample(frac=1, random_state=0).reset_index(drop=True)\n",
    "\n",
    "# 执行上采样\n",
    "data_balanced = oversample(data)\n",
    "data_balanced['Diabetes_binary'].value_counts()\n"
   ],
   "id": "ed50d2ff97e2db07",
   "outputs": [
    {
     "data": {
      "text/plain": [
       "Diabetes_binary\n",
       "0.0    217700\n",
       "1.0    217700\n",
       "Name: count, dtype: int64"
      ]
     },
     "execution_count": 4,
     "metadata": {},
     "output_type": "execute_result"
    }
   ],
   "execution_count": 4
  },
  {
   "metadata": {},
   "cell_type": "markdown",
   "source": "# 数据划分以及标准化",
   "id": "361ca75e55fd3e81"
  },
  {
   "metadata": {
    "ExecuteTime": {
     "end_time": "2025-06-03T09:17:09.904905Z",
     "start_time": "2025-06-03T09:17:09.781656Z"
    }
   },
   "cell_type": "code",
   "source": [
    "def data_split(df):\n",
    "    X = df.iloc[:, :-1]\n",
    "    y = df.iloc[:, -1]\n",
    "    return train_test_split(X, y, test_size=0.2, stratify=y, random_state=0)\n",
    "\n",
    "def data_scaling(train_x, test_x):\n",
    "    scaler = StandardScaler()\n",
    "    train_x_scaled = scaler.fit_transform(train_x)\n",
    "    test_x_scaled = scaler.transform(test_x)\n",
    "    return train_x_scaled, test_x_scaled\n",
    "\n",
    "# 执行划分与标准化\n",
    "train_x, test_x, train_y, test_y = data_split(data_balanced)\n",
    "train_x_scaled, test_x_scaled = data_scaling(train_x, test_x)\n"
   ],
   "id": "ca75d2d101ab323e",
   "outputs": [],
   "execution_count": 5
  },
  {
   "metadata": {},
   "cell_type": "markdown",
   "source": "",
   "id": "425a5ecb80890ec2"
  },
  {
   "metadata": {},
   "cell_type": "markdown",
   "source": "# 创建训练集，测试集，验证集",
   "id": "276fe588045efc0"
  },
  {
   "metadata": {
    "ExecuteTime": {
     "end_time": "2025-06-03T09:18:57.777600Z",
     "start_time": "2025-06-03T09:18:56.460715Z"
    }
   },
   "cell_type": "code",
   "source": [
    "df = pd.read_csv('aftprocessdata/processed_brfss.csv')\n",
    "\n",
    "# 2. 拆分特征和标签\n",
    "X = df.drop(columns=['Diabetes_binary'])\n",
    "y = df['Diabetes_binary']\n",
    "\n",
    "# 3. 第一步：先划分为训练集（70%）和临时集（30%）\n",
    "X_train, X_temp, y_train, y_temp = train_test_split(\n",
    "    X, y, test_size=0.3, stratify=y, random_state=42\n",
    ")\n",
    "\n",
    "# 4. 第二步：将临时集划分为验证集和测试集（各占15%）\n",
    "X_val, X_test, y_val, y_test = train_test_split(\n",
    "    X_temp, y_temp, test_size=0.5, stratify=y_temp, random_state=42\n",
    ")\n",
    "\n",
    "# 5. 输出各数据集大小\n",
    "print(f\"训练集：{len(X_train)}\")\n",
    "print(f\"验证集：{len(X_val)}\")\n",
    "print(f\"测试集：{len(X_test)}\")\n",
    "\n",
    "# 6.保存各数据集\n",
    "X_train.to_csv(\"sign/X_train.csv\", index=False)\n",
    "y_train.to_csv(\"sign/y_train.csv\", index=False)\n",
    "X_val.to_csv(\"sign/X_val.csv\", index=False)\n",
    "y_val.to_csv(\"sign/y_val.csv\", index=False)\n",
    "X_test.to_csv(\"sign/X_test.csv\", index=False)\n",
    "y_test.to_csv(\"sign/y_test.csv\", index=False)"
   ],
   "id": "2def6c474cc9924b",
   "outputs": [
    {
     "name": "stdout",
     "output_type": "stream",
     "text": [
      "训练集：177012\n",
      "验证集：37931\n",
      "测试集：37932\n"
     ]
    }
   ],
   "execution_count": 7
  }
 ],
 "metadata": {
  "kernelspec": {
   "display_name": "Python 3",
   "language": "python",
   "name": "python3"
  },
  "language_info": {
   "codemirror_mode": {
    "name": "ipython",
    "version": 2
   },
   "file_extension": ".py",
   "mimetype": "text/x-python",
   "name": "python",
   "nbconvert_exporter": "python",
   "pygments_lexer": "ipython2",
   "version": "2.7.6"
  }
 },
 "nbformat": 4,
 "nbformat_minor": 5
}
